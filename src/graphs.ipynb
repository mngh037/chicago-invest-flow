{
 "cells": [
  {
   "cell_type": "code",
   "execution_count": null,
   "metadata": {},
   "outputs": [],
   "source": [
    "import json\n",
    "import altair as alt\n",
    "import pandas as pd\n",
    "import geopandas\n",
    "import numpy as np\n",
    "import polars as pl\n",
    "\n",
    "alt.data_transformers.enable(\"vegafusion\")"
   ]
  },
  {
   "cell_type": "code",
   "execution_count": null,
   "metadata": {},
   "outputs": [],
   "source": [
    "with open(\"../data/chidata_census_tracts_boundaries.geojson\", \"r\") as f:\n",
    "    tract_boundaries_raw = json.load(f)\n",
    "\n",
    "tract_boundaries = geopandas.GeoDataFrame.from_features(tract_boundaries_raw[\"features\"])\n",
    "tract_boundaries[\"geoid10\"] = tract_boundaries[\"geoid10\"].astype(int)\n",
    "\n",
    "tract_boundaries"
   ]
  },
  {
   "cell_type": "code",
   "execution_count": null,
   "metadata": {},
   "outputs": [],
   "source": [
    "tract_invest = pl.read_csv(\"../data/urbinst_tract_invest_data.csv\")\n",
    "tract_invest"
   ]
  },
  {
   "cell_type": "code",
   "execution_count": null,
   "metadata": {},
   "outputs": [],
   "source": [
    "tract_invest_long = tract_invest.melt(id_vars=[\"tract_geoid\", \"majority_race\", \"poverty_cat\", \"community\"], variable_name=\"invest_cat\", value_name=\"percentile\")\n",
    "tract_invest_long"
   ]
  },
  {
   "cell_type": "code",
   "execution_count": null,
   "metadata": {},
   "outputs": [],
   "source": [
    "tract_invest_long[\"invest_cat\"].unique()"
   ]
  },
  {
   "cell_type": "code",
   "execution_count": null,
   "metadata": {},
   "outputs": [],
   "source": [
    "tract_invest_long = tract_invest_long.with_columns(pl.when(\n",
    "    pl.col(\"invest_cat\") == \"aggregate_pct\")\n",
    "    .then(pl.lit(\"Aggregate investment\"))\n",
    "    .when(pl.col(\"invest_cat\") == \"nonres_pct\")\n",
    "    .then(pl.lit(\"Non-residential loans (commercial, industrial, agricultural)\"))\n",
    "    .when(pl.col(\"invest_cat\") == \"small_biz_pct\")\n",
    "    .then(pl.lit(\"Small-business loans (less than $1M in revenue)\"))\n",
    "    .when(pl.col(\"invest_cat\") == \"mission_pct\")\n",
    "    .then(pl.lit(\"Community development funds (financial intitutions, misc. lenders)\"))\n",
    "    .when(pl.col(\"invest_cat\") == \"public_pct\")\n",
    "    .then(pl.lit(\"Federal community development funds\"))\n",
    "    .when(pl.col(\"invest_cat\") == \"SF_pct\")\n",
    "    .then(pl.lit(\"Purchase loans for owner-occupied single-family properties (1-4 units)\"))\n",
    "    .otherwise(pl.lit(\"Purchase loans for renter-occupied multi-family properties (5 or more units)\"))\n",
    "    .alias(\"invest_cat\"))\n",
    "\n",
    "tract_invest_long"
   ]
  },
  {
   "cell_type": "code",
   "execution_count": null,
   "metadata": {},
   "outputs": [],
   "source": [
    "investment = list(tract_invest_long[\"invest_cat\"].unique())\n",
    "\n",
    "investment_radio = alt.binding_radio(options=investment, name=\"Investment Category \")\n",
    "investment_option = alt.selection_point(fields=['invest_cat'], bind=investment_radio, value=\"Aggregate investment\")\n",
    "\n",
    "base = (\n",
    "    alt.Chart(tract_boundaries).mark_geoshape(\n",
    "        fill='lightgray',\n",
    "        strokeWidth=1\n",
    "    ).encode(\n",
    "    ).project(type=\"mercator\").properties(\n",
    "        width=550,\n",
    "        height=750,\n",
    "        title=\"Average Scaled Investment by Tract in Chicago (2010-2020)\"\n",
    "    ) \n",
    ")\n",
    "\n",
    "fig = (\n",
    "    alt.Chart(tract_invest_long)\n",
    "    .mark_geoshape(strokeWidth=1.2, stroke=\"white\")\n",
    "    .encode(\n",
    "        shape=\"geo:G\",\n",
    "        color=alt.Color(\"percentile:Q\", scale=alt.Scale(range=['#fed16f','#fea045','#fc7335','#ec3f2f','#b21218'], domain=[0, 20, 40, 60, 80, 100]), bin=True).title(\"Percentile\"),\n",
    "        tooltip=[alt.Tooltip('tract_geoid:N', title=\"Tract ID\"), alt.Tooltip('community:N',title=\"Neighborhood\"), alt.Tooltip('percentile:Q', title=\"Percentile\")],\n",
    "    )\n",
    "    .transform_lookup(\n",
    "        lookup=\"tract_geoid\", \n",
    "        from_=alt.LookupData(data=tract_boundaries, key=\"geoid10\"), \n",
    "        as_=\"geo\"\n",
    "    ).add_params(investment_option)\n",
    "    .transform_filter(investment_option)\n",
    "    .project(type=\"mercator\")\n",
    "    .properties(\n",
    "        width=550,\n",
    "        height=750\n",
    "    )\n",
    ")"
   ]
  },
  {
   "cell_type": "code",
   "execution_count": null,
   "metadata": {},
   "outputs": [],
   "source": [
    "selection = alt.selection_point(on=\"click\", fields=[\"community\"], clear=\"dbclick\")\n",
    "\n",
    "fig_selection = fig.encode(\n",
    "    strokeWidth=alt.condition(selection, alt.value(1.2), alt.value(0.1)),\n",
    "    strokeDash=alt.when(selection).then(alt.value([0])).otherwise(alt.value([1, 1])),\n",
    "    ).add_params(selection)\n",
    "\n",
    "chicago_map = base + fig_selection"
   ]
  },
  {
   "cell_type": "code",
   "execution_count": null,
   "metadata": {},
   "outputs": [],
   "source": [
    "tract_invest_long[\"majority_race\"].unique()\n",
    "tract_invest_long[\"poverty_cat\"].unique()"
   ]
  },
  {
   "cell_type": "code",
   "execution_count": null,
   "metadata": {},
   "outputs": [],
   "source": [
    "# Race Majority dropdown\n",
    "race_select_options = [None, 'no racial majority', 'white', 'black', 'latine', 'asian']\n",
    "race_label_options = ['all', 'no racial majority', 'white', 'black', 'latine', 'asian']\n",
    "\n",
    "race_majority_dropdown = alt.binding_select(options=race_select_options, labels=race_label_options, name=\"Race Majority \")\n",
    "race_majority_select = alt.selection_point(fields=[\"majority_race\"], bind=race_majority_dropdown)\n",
    "\n",
    "# Poverty Category dropdown\n",
    "pov_select_options = [None, 'Over 31% Poverty', '21-31% Poverty', '12-20% Poverty', '0-11% Poverty']\n",
    "pov_label_options = ['All', 'Over 31% Poverty', '21-31% Poverty', '12-20% Poverty', '0-11% Poverty']\n",
    "\n",
    "pov_dropdown = alt.binding_select(options=pov_select_options, labels=pov_label_options, name=\"Poverty Category \")\n",
    "pov_select = alt.selection_point(fields=[\"poverty_cat\"], bind=pov_dropdown)"
   ]
  },
  {
   "cell_type": "code",
   "execution_count": null,
   "metadata": {},
   "outputs": [],
   "source": [
    "final_map = chicago_map.add_params(race_majority_select, pov_select).encode(\n",
    "    opacity=alt.condition(race_majority_select & pov_select, alt.value(1.0), alt.value(0.2)))\n",
    "\n",
    "final_map"
   ]
  },
  {
   "cell_type": "code",
   "execution_count": null,
   "metadata": {},
   "outputs": [],
   "source": [
    "# https://github.com/vega/altair/issues/2875\n",
    "def export_viz(graph, filename):\n",
    "    json_file = graph.to_json(format=\"vega\")\n",
    "    with open(f'../visualizations/{filename}.json', \"w\") as f:\n",
    "        f.write(json_file)\n",
    "\n",
    "export_viz(final_map, \"tract_map\")"
   ]
  },
  {
   "cell_type": "code",
   "execution_count": null,
   "metadata": {},
   "outputs": [],
   "source": [
    "top_cities_raw = pl.read_csv(\"../data/urbinst_top_cities.csv\")\n",
    "state_region = pl.read_csv(\"../data/kaggle_state_region_crosswalk.csv\")\n",
    "\n",
    "def process_top_cities(num_cities=100):\n",
    "    df = top_cities_raw.sort(by=\"place_pop\", descending=True).head(num_cities)\n",
    "    df = top_cities_raw.with_columns(pl.col(\"placenm\").str.tail(2).alias(\"state\"))\n",
    "    df = df.join(state_region[\"State Code\", \"Region\", \"Division\"], left_on=\"state\", right_on=\"State Code\", how=\"left\").rename({\"Region\": \"region\", \"Division\": \"division\"})\n",
    "    return df\n",
    "\n",
    "top_cities = process_top_cities()"
   ]
  },
  {
   "cell_type": "code",
   "execution_count": null,
   "metadata": {},
   "outputs": [],
   "source": [
    "regions = top_cities[\"region\"].unique().to_list()\n",
    "\n",
    "region_options = [None] + regions\n",
    "region_labels = [\"All\"] + regions\n",
    "\n",
    "region_dropdown = alt.binding_select(options=region_options, labels=region_labels, name=\"Region \")\n",
    "region_select = alt.selection_point(fields=[\"region\"], bind=region_dropdown)"
   ]
  },
  {
   "cell_type": "markdown",
   "metadata": {},
   "source": [
    "Radio by Investment Type"
   ]
  },
  {
   "cell_type": "code",
   "execution_count": null,
   "metadata": {},
   "outputs": [],
   "source": [
    "top_cities_long = top_cities.melt(id_vars=['place_geoid',\n",
    " 'placenm',\n",
    " 'place_pop',\n",
    " 'poverty_perc',\n",
    " 'state',\n",
    " 'region',\n",
    " 'division'\n",
    " ], variable_name=\"measure\", value_name=\"inv_amount\")\n",
    "\n",
    "top_cities_long"
   ]
  },
  {
   "cell_type": "code",
   "execution_count": null,
   "metadata": {},
   "outputs": [],
   "source": [
    "list(top_cities_long[\"measure\"].unique())"
   ]
  },
  {
   "cell_type": "code",
   "execution_count": null,
   "metadata": {},
   "outputs": [],
   "source": [
    "top_cities_long = top_cities_long.with_columns(pl.when(\n",
    "    pl.col(\"measure\") == \"agg_investment_perhh\")\n",
    "    .then(pl.lit(\"Aggregate investment per Household\"))\n",
    "    .when(pl.col(\"measure\") == \"ACII_loans_peremp\")\n",
    "    .then(pl.lit(\"Non-residential investment per private employee\"))\n",
    "    .when(pl.col(\"measure\") == \"small_business_lending_persbemp\")\n",
    "    .then(pl.lit(\"Small-business loans per small business employee\"))\n",
    "    .when(pl.col(\"measure\") == \"mission_lending_perhh\")\n",
    "    .then(pl.lit(\"Community development funds per Household\"))\n",
    "    .when(pl.col(\"measure\") == \"federal_perhh\")\n",
    "    .then(pl.lit(\"Federal community development funds per Household\"))\n",
    "    .when(pl.col(\"measure\") == \"HMDA_SF_perSFhh\")\n",
    "    .then(pl.lit(\"Purchase loans per owner-occupied household\"))\n",
    "    .otherwise(pl.lit(\"Purchase loans per renter-occupied household\"))\n",
    "    .alias(\"measure\"))\n",
    "\n",
    "top_cities_long"
   ]
  },
  {
   "cell_type": "code",
   "execution_count": null,
   "metadata": {},
   "outputs": [],
   "source": [
    "measures = top_cities_long[\"measure\"].unique().to_list()\n",
    "\n",
    "measures_radio = alt.binding_radio(options=measures, name=\"Investment Category \")\n",
    "measures_option = alt.selection_point(fields=['measure'], bind=measures_radio, value=\"Aggregate investment per Household\")"
   ]
  },
  {
   "cell_type": "code",
   "execution_count": null,
   "metadata": {},
   "outputs": [],
   "source": [
    "interval = alt.selection_interval(encodings=['x'])\n",
    "\n",
    "scatter2 = alt.Chart(top_cities_long).mark_point(filled=True\n",
    ").encode(\n",
    "    alt.Y(\"poverty_perc:Q\", axis=alt.Axis(labelExpr=\"datum.value * 100 + '%'\"), title=\"Poverty percentage\"),\n",
    "    alt.X(\"inv_amount:Q\", title=\"Investment amount (USD, per scalar unit)\"),\n",
    "    alt.Size(\"place_pop:Q\", scale=alt.Scale(domain=[350000, 8500000], range=[50, 1500]), title=\"Population\", legend=alt.Legend(labelExpr=\"datum.value / 1000000 + 'M'\")),\n",
    "    alt.Color(\"region:N\", title=\"Region\"),\n",
    "    tooltip=[alt.Tooltip(\"placenm\", title=\"City\"), alt.Tooltip(\"place_pop:Q\", format=\",\", title=\"Population\"), alt.Tooltip(\"poverty_perc:Q\", format=\".2%\", title=\"Poverty percentage\"), alt.Tooltip(\"inv_amount:Q\", format=\",.2f\", title=\"Investment amount (USD)\")]\n",
    ").properties(\n",
    "    width=500,\n",
    "    height=375,\n",
    "    title=\"Average Scaled Investment in the US's top 100 cities (2010-2020)\"\n",
    ")\n",
    "\n",
    "hist3 = alt.Chart(top_cities_long).mark_bar().add_params(interval).transform_filter(interval).transform_aggregate(ct = 'count(measure)',\n",
    "    groupby=['region', \"measure\"]).encode(\n",
    "    alt.X('mean(ct):Q', title=\"City Count\"),\n",
    "    alt.Y('region:N', title=\"Region\"),\n",
    "    color='region:N').properties(\n",
    "    width=500\n",
    ")"
   ]
  },
  {
   "cell_type": "code",
   "execution_count": null,
   "metadata": {},
   "outputs": [],
   "source": [
    "a = scatter2.encode(opacity=alt.condition(measures_option, alt.value(0.7), alt.value(0))).add_params(\n",
    "    measures_option\n",
    ")\n",
    "\n",
    "b = hist3.add_params(\n",
    "    measures_option\n",
    ").transform_filter(measures_option)\n",
    "\n",
    "select_region = alt.selection_point(fields=[\"region\"], bind=\"legend\")\n",
    "\n",
    "c = a.encode(\n",
    "    color=alt.condition(select_region, alt.Color(\"region:N\", title=\"Region\", scale=alt.Scale(range=[\"#7DB583\", \"#3B5268\", \"#FFC857\", \"#E07B7B\"])), alt.value('#ECECEC')),\n",
    ").properties(\n",
    "    width=500,\n",
    "    height=375\n",
    ").add_params(select_region)"
   ]
  },
  {
   "cell_type": "code",
   "execution_count": null,
   "metadata": {},
   "outputs": [],
   "source": [
    "# Ref: https://stackoverflow.com/questions/54964869/how-does-one-highlight-a-mark-in-a-scatter-plot-using-altair\n",
    "text = alt.Chart(top_cities_long).mark_text(align=\"left\", dx=2, dy=-17, color=\"maroon\").encode(\n",
    "    x=alt.X(\"inv_amount:Q\"), \n",
    "    y=alt.Y(\"poverty_perc:Q\"),\n",
    "    text=alt.Text(\"placenm:N\")\n",
    ")\n",
    "\n",
    "chi_text = text.transform_filter(\"datum.placenm == 'Chicago, IL'\").add_params(\n",
    "    measures_option\n",
    ").transform_filter(measures_option)\n",
    "\n",
    "border = c.transform_filter(\"datum.placenm == 'Chicago, IL'\").mark_point().encode(\n",
    "    color=alt.value(\"maroon\")\n",
    ")\n",
    "\n",
    "chicago_highlight = border + chi_text\n",
    "scatter_fin = c + chicago_highlight\n",
    "scatter_fin"
   ]
  },
  {
   "cell_type": "code",
   "execution_count": null,
   "metadata": {},
   "outputs": [],
   "source": [
    "final_cities_chart = scatter_fin.add_params(interval) & b.add_params(interval)\n",
    "final_cities_chart"
   ]
  },
  {
   "cell_type": "code",
   "execution_count": null,
   "metadata": {},
   "outputs": [],
   "source": [
    "export_viz(final_cities_chart, \"top_cities\")"
   ]
  },
  {
   "cell_type": "code",
   "execution_count": null,
   "metadata": {},
   "outputs": [],
   "source": [
    "time_series = pl.read_csv(\"../data/urbinst_chicago_timeseries.csv\")\n",
    "time_series_long = time_series.melt(id_vars=\"year\", variable_name=\"measure\", value_name=\"inv_amount\")\n",
    "list(time_series_long[\"measure\"].unique())"
   ]
  },
  {
   "cell_type": "code",
   "execution_count": null,
   "metadata": {},
   "outputs": [],
   "source": [
    "time_series_long = time_series_long.with_columns(pl.when(\n",
    "    pl.col(\"measure\") == \"agg_investment_perhh\")\n",
    "    .then(pl.lit(\"Aggregate investment\"))\n",
    "    .when(pl.col(\"measure\") == \"ACII_loans_peremp\")\n",
    "    .then(pl.lit(\"Non-residential investment\"))\n",
    "    .when(pl.col(\"measure\") == \"small_business_lending_persbemp\")\n",
    "    .then(pl.lit(\"Small-business loans\"))\n",
    "    .when(pl.col(\"measure\") == \"mission_lending_perhh\")\n",
    "    .then(pl.lit(\"Community development funds\"))\n",
    "    .when(pl.col(\"measure\") == \"federal_public_perhh\")\n",
    "    .then(pl.lit(\"Federal funds\"))\n",
    "    .when(pl.col(\"measure\") == \"HMDA_SF_perSFhh\")\n",
    "    .then(pl.lit(\"Purchase loans (SF units)\"))\n",
    "    .otherwise(pl.lit(\"Purchase loans (MF units)\"))\n",
    "    .alias(\"measure\"))\n",
    "\n",
    "time_series_long = time_series_long.with_columns(pl.col(\"inv_amount\").cast(pl.Decimal(scale=2, precision=None)))"
   ]
  },
  {
   "cell_type": "code",
   "execution_count": null,
   "metadata": {},
   "outputs": [],
   "source": [
    "# https://altair-viz.github.io/gallery/multiline_tooltip.html\n",
    "line = alt.Chart(time_series_long).mark_line(strokeWidth=2).encode(\n",
    "    alt.X(\"year:T\", title=\"Year\"),\n",
    "    alt.Y(\"inv_amount:Q\", title=\"Investment amount (USD, per scalar unit)\"),\n",
    "    alt.Color(\"measure\", scale=alt.Scale(range=[\"#7DB583\", \"#3B5268\", \"#FFC857\", \"#E07B7B\", \"#7BAEE0\", \"#CE94E6\", \"#E08D67\"]), title=\"Investment Category\"),\n",
    "    tooltip=[alt.Tooltip(\"year:T\", format=\"%Y\", title=\"Year\"), alt.Tooltip(\"measure\", title=\"Investment Category\"), alt.Tooltip(\"inv_amount:N\", format=\",.2f\", title=\"Amount (USD)\")]\n",
    ").properties(\n",
    "    width=300,\n",
    "    height=300,\n",
    "    title=\"Chicago Investment trend (2010-2020)\"\n",
    ")\n",
    "\n",
    "# Create a selection that chooses the nearest point & selects based on x-value\n",
    "nearest = alt.selection_point(nearest=True, on=\"click\",\n",
    "                              fields=[\"year\"], empty=False)\n",
    "\n",
    "# Transparent selectors across the chart. This is what tells us\n",
    "# the x-value of the cursor\n",
    "selectors = alt.Chart(time_series_long).mark_point().encode(\n",
    "    x=\"year:T\",\n",
    "    opacity=alt.value(0),\n",
    ").add_params(\n",
    "    nearest\n",
    ")\n",
    "when_near = alt.when(nearest)\n",
    "\n",
    "# Draw points on the line, and highlight based on selection\n",
    "points = line.mark_point(size=100, filled=True).encode(\n",
    "    opacity=when_near.then(alt.value(1)).otherwise(alt.value(0))\n",
    ")\n",
    "\n",
    "# Draw a rule at the location of the selection\n",
    "rules = alt.Chart(time_series_long).mark_rule(color=\"gray\", strokeWidth=0.7).encode(\n",
    "    x=\"year:T\",\n",
    ").transform_filter(\n",
    "    nearest\n",
    ")\n",
    "\n",
    "# Put the five layers into a chart and bind the data\n",
    "final_time_series_chart = alt.layer(\n",
    "    line, selectors, rules, points,\n",
    ")\n",
    "\n",
    "final_time_series_chart"
   ]
  },
  {
   "cell_type": "code",
   "execution_count": null,
   "metadata": {},
   "outputs": [],
   "source": [
    "export_viz(final_time_series_chart, \"trend\")"
   ]
  },
  {
   "cell_type": "code",
   "execution_count": null,
   "metadata": {},
   "outputs": [],
   "source": [
    "categories = pl.read_csv(\"../data/urbinst_chicago_categories.csv\").drop(\"agg_investment\")\n",
    "categories_long = categories.melt(variable_name=\"measure\", value_name=\"inv_amount\")\n",
    "categories_long = categories_long.with_columns((pl.col(\"inv_amount\") / 1000000000).cast(pl.Decimal(scale=2, precision=None)))\n",
    "categories_long"
   ]
  },
  {
   "cell_type": "code",
   "execution_count": null,
   "metadata": {},
   "outputs": [],
   "source": [
    "categories_long = categories_long.with_columns(pl.when(\n",
    "    pl.col(\"measure\") == \"ACII_loans\")\n",
    "    .then(pl.lit(\"Non-residential investment\"))\n",
    "    .when(pl.col(\"measure\") == \"small_business_lending\")\n",
    "    .then(pl.lit(\"Small-business loans\"))\n",
    "    .when(pl.col(\"measure\") == \"mission_lending\")\n",
    "    .then(pl.lit(\"Community development funds\"))\n",
    "    .when(pl.col(\"measure\") == \"federal_public\")\n",
    "    .then(pl.lit(\"Federal funds\"))\n",
    "    .when(pl.col(\"measure\") == \"HMDA_SF\")\n",
    "    .then(pl.lit(\"Purchase loans (SF units)\"))\n",
    "    .otherwise(pl.lit(\"Purchase loans (MF units)\"))\n",
    "    .alias(\"measure\"))"
   ]
  },
  {
   "cell_type": "code",
   "execution_count": null,
   "metadata": {},
   "outputs": [],
   "source": [
    "final_donut_chart = alt.Chart(categories_long).mark_arc(innerRadius=90).transform_calculate(inv_amt=\"'$' + datum.inv_amount + 'B'\").encode(\n",
    "    theta=\"inv_amount:Q\",\n",
    "    color=alt.Color(\"measure:N\", scale=alt.Scale(range=[\"#CE94E6\", \"#7DB583\", \"#E07B7B\", \"#FFC857\", \"#3B5268\", \"#7BAEE0\"]), title=\"Investment Category\"),\n",
    "    tooltip=[alt.Tooltip(\"measure\", title=\"Investment Type\"), alt.Tooltip(\"inv_amt:N\", title=\"Amount\")]\n",
    ").properties(\n",
    "    width=300,\n",
    "    height=300,\n",
    "    title=alt.Title(\"Chicago Total Investment by Category (2010-2020)\", anchor=\"middle\")\n",
    ")\n",
    "\n",
    "final_donut_chart"
   ]
  },
  {
   "cell_type": "code",
   "execution_count": null,
   "metadata": {},
   "outputs": [],
   "source": [
    "export_viz(final_donut_chart, \"invest_categories\")"
   ]
  },
  {
   "cell_type": "code",
   "execution_count": null,
   "metadata": {},
   "outputs": [],
   "source": [
    "inv_byrace = pl.read_csv(\"../data/urbinst_chicago_race.csv\")\n",
    "inv_byrace = inv_byrace.drop(\"n_tracts\")"
   ]
  },
  {
   "cell_type": "code",
   "execution_count": null,
   "metadata": {},
   "outputs": [],
   "source": [
    "inv_byrace = inv_byrace.with_columns(pl.when(\n",
    "    pl.col(\"race_cat\").str.contains(\"white\"))\n",
    "    .then(pl.lit(\"White\"))\n",
    "    .when(pl.col(\"race_cat\").str.contains(\"Black\"))\n",
    "    .then(pl.lit(\"Black\"))\n",
    "    .when(pl.col(\"race_cat\").str.contains(\"Asian\"))\n",
    "    .then(pl.lit(\"Asian\"))\n",
    "    .when(pl.col(\"race_cat\").str.contains(\"Latine\"))\n",
    "    .then(pl.lit(\"Latine\"))\n",
    "    .alias(\"race\")\n",
    "    )\n",
    "\n",
    "inv_byrace"
   ]
  },
  {
   "cell_type": "code",
   "execution_count": null,
   "metadata": {},
   "outputs": [],
   "source": [
    "inv_byrace_long = inv_byrace.melt(id_vars=[\"race\", \"race_cat\"], variable_name=\"measure\", value_name=\"inv_amount\")\n",
    "inv_byrace_long"
   ]
  },
  {
   "cell_type": "code",
   "execution_count": null,
   "metadata": {},
   "outputs": [],
   "source": [
    "inv_byrace_long = inv_byrace_long.with_columns(pl.when(\n",
    "    pl.col(\"race_cat\") == \"0-5% Asian\")\n",
    "    .then(pl.lit(\"(1) 0-5% Asian\"))\n",
    "    .when(pl.col(\"race_cat\") == \"6-10% Asian\")\n",
    "    .then(pl.lit(\"(2) 6-10% Asian\"))\n",
    "    .when(pl.col(\"race_cat\") == \"11-20% Asian\")\n",
    "    .then(pl.lit(\"(3) 11-20% Asian\"))\n",
    "    .when(pl.col(\"race_cat\") == \"21+% Asian\")\n",
    "    .then(pl.lit(\"(4) 21+% Asian\"))\n",
    "    .otherwise(pl.col(\"race_cat\"))\n",
    "    .alias(\"race_cat\")\n",
    "    )\n",
    "\n",
    "list(inv_byrace_long[\"measure\"].unique())\n",
    "\n",
    "inv_byrace_long = inv_byrace_long.with_columns(pl.when(\n",
    "    pl.col(\"measure\") == \"agg_investment_perhh\")\n",
    "    .then(pl.lit(\"Aggregate investment per Household\"))\n",
    "    .when(pl.col(\"measure\") == \"ACII_loans_peremp\")\n",
    "    .then(pl.lit(\"Non-residential investment per private employee\"))\n",
    "    .when(pl.col(\"measure\") == \"small_business_lending_persbemp\")\n",
    "    .then(pl.lit(\"Small-business loans per small business employee\"))\n",
    "    .when(pl.col(\"measure\") == \"mission_lending_perhh\")\n",
    "    .then(pl.lit(\"Community development funds per Household\"))\n",
    "    .when(pl.col(\"measure\") == \"federal_perhh\")\n",
    "    .then(pl.lit(\"Federal community development funds per Household\"))\n",
    "    .when(pl.col(\"measure\") == \"HMDA_SF_perSFhh\")\n",
    "    .then(pl.lit(\"Purchase loans per owner-occupied household\"))\n",
    "    .otherwise(pl.lit(\"Purchase loans per renter-occupied household\"))\n",
    "    .alias(\"measure\"))"
   ]
  },
  {
   "cell_type": "code",
   "execution_count": null,
   "metadata": {},
   "outputs": [],
   "source": [
    "inv = list(inv_byrace_long[\"measure\"].unique())\n",
    "\n",
    "inv_radio = alt.binding_radio(options=inv, name=\"Investment Category \")\n",
    "inv_option = alt.selection_point(fields=['measure'], bind=inv_radio, value=\"Aggregate investment per Household\")\n",
    "\n",
    "inv_byrace_final_chart = alt.Chart(inv_byrace_long).mark_bar(color=\"maroon\").encode(\n",
    "    alt.X(\"inv_amount:Q\", title=\"Investment Amount (USD, per scalar unit)\"),\n",
    "    alt.Y(\"race_cat:N\", title=None),\n",
    "    tooltip=[alt.Tooltip(\"inv_amount\", title=\"Investment Amount (USD)\", format=\",.2f\")]\n",
    "    ).facet(\n",
    "        row=alt.Row(\"race\", title=None),\n",
    "    ).resolve_scale(y='independent').add_params(inv_option).transform_filter(inv_option).properties(\n",
    "        title=\"Chicago Average Scaled Investment by Tracts with Race Majority (2010-2020)\"\n",
    "    )\n",
    "\n",
    "inv_byrace_final_chart"
   ]
  },
  {
   "cell_type": "code",
   "execution_count": null,
   "metadata": {},
   "outputs": [],
   "source": [
    "export_viz(inv_byrace_final_chart, \"investment_byrace\")"
   ]
  },
  {
   "cell_type": "code",
   "execution_count": null,
   "metadata": {},
   "outputs": [],
   "source": [
    "inv_bypov = pl.read_csv(\"../data/urbinst_chicago_poverty.csv\")\n",
    "inv_bypov = inv_bypov.drop(\"n_tracts\")\n",
    "\n",
    "inv_bypov"
   ]
  },
  {
   "cell_type": "code",
   "execution_count": null,
   "metadata": {},
   "outputs": [],
   "source": [
    "inv_bypov_long = inv_bypov.melt(id_vars=[\"poverty_cat\"], variable_name=\"measure\", value_name=\"inv_amount\")\n",
    "list(inv_bypov_long[\"measure\"].unique())\n",
    "\n",
    "inv_bypov_long = inv_bypov_long.with_columns(pl.when(\n",
    "    pl.col(\"measure\") == \"agg_investment_perhh\")\n",
    "    .then(pl.lit(\"Aggregate investment per Household\"))\n",
    "    .when(pl.col(\"measure\") == \"ACII_loans_peremp\")\n",
    "    .then(pl.lit(\"Non-residential investment per private employee\"))\n",
    "    .when(pl.col(\"measure\") == \"small_business_lending_persbemp\")\n",
    "    .then(pl.lit(\"Small-business loans per small business employee\"))\n",
    "    .when(pl.col(\"measure\") == \"mission_lending_perhh\")\n",
    "    .then(pl.lit(\"Community development funds per Household\"))\n",
    "    .when(pl.col(\"measure\") == \"federal_public_perhh\")\n",
    "    .then(pl.lit(\"Federal community development funds per Household\"))\n",
    "    .when(pl.col(\"measure\") == \"HMDA_SF_perSFhh\")\n",
    "    .then(pl.lit(\"Purchase loans per owner-occupied household\"))\n",
    "    .otherwise(pl.lit(\"Purchase loans per renter-occupied household\"))\n",
    "    .alias(\"measure\"))"
   ]
  },
  {
   "cell_type": "code",
   "execution_count": null,
   "metadata": {},
   "outputs": [],
   "source": [
    "inv_bypov_final_chart = alt.Chart(inv_bypov_long).mark_bar(color=\"maroon\").encode(\n",
    "    alt.X(\"inv_amount:Q\", title=\"Investment Amount (USD, per scalar unit)\"),\n",
    "    alt.Y(\"poverty_cat:N\", title=None),\n",
    "    tooltip=[alt.Tooltip(\"inv_amount\", title=\"Investment Amount (USD)\", format=\",.2f\")],\n",
    "    facet=alt.Facet(\"measure\", title=None, columns=2, sort=[\"Purchase loans per renter-occupied household\", \"Purchase loans per owner-occupied household\", \"Non-residential investment per private employee\", \"Small-business loans per small business employee\", \"Federal community development funds per Household\", \"Community development funds per Household\", \"Aggregate investment per Household\"])\n",
    "    ).properties(\n",
    "        title=alt.Title(\"Chicago Average Scaled Investment by Tracts with Poverty Level (2010-2020)\", anchor=\"middle\")\n",
    "    )\n",
    "\n",
    "inv_bypov_final_chart"
   ]
  },
  {
   "cell_type": "code",
   "execution_count": null,
   "metadata": {},
   "outputs": [],
   "source": [
    "export_viz(inv_bypov_final_chart, \"investment_bypoverty\")"
   ]
  }
 ],
 "metadata": {
  "kernelspec": {
   "display_name": "Python 3",
   "language": "python",
   "name": "python3"
  },
  "language_info": {
   "codemirror_mode": {
    "name": "ipython",
    "version": 3
   },
   "file_extension": ".py",
   "mimetype": "text/x-python",
   "name": "python",
   "nbconvert_exporter": "python",
   "pygments_lexer": "ipython3",
   "version": "3.10.12"
  }
 },
 "nbformat": 4,
 "nbformat_minor": 2
}
